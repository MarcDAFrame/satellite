{
 "cells": [
  {
   "cell_type": "code",
   "execution_count": 1,
   "metadata": {
    "collapsed": true
   },
   "outputs": [],
   "source": [
    "from IPython.core.display import Image as IPYimg\n",
    "import shutil\n"
   ]
  },
  {
   "cell_type": "code",
   "execution_count": 2,
   "metadata": {
    "collapsed": true
   },
   "outputs": [],
   "source": [
    "import os.path\n",
    "import cv2\n",
    "import numpy as np\n",
    "\n",
    "def combine_images(file_dir):\n",
    "    \"\"\"\n",
    "    A method that combines images\n",
    "\n",
    "    @param {string} file_dir - The file directory that you are loading from\n",
    "\n",
    "    @returns {void}\n",
    "    \"\"\"\n",
    "    break_now = False\n",
    "    current_y = 0\n",
    "    current_x = 0\n",
    "    images = [[]]\n",
    "    visuals = []\n",
    "\n",
    "#     print(cv2.imread('./images/toronto/0 0.png'))\n",
    "\n",
    "    while True:\n",
    "        path = str(current_x) + ' ' + str(current_y) + '.png'\n",
    "        if os.path.exists(file_dir + path):\n",
    "#             print(file_dir + path)\n",
    "            images[current_y].append(cv2.imread(file_dir + path))\n",
    "            break_now = False\n",
    "            current_x += 1\n",
    "        else:\n",
    "            if break_now:\n",
    "                images = images[:-1]\n",
    "                break\n",
    "\n",
    "            break_now = True\n",
    "            images.append([])\n",
    "            current_x = 0\n",
    "            current_y += 1\n",
    "\n",
    "    for image_row in images:\n",
    "        visuals.append(np.concatenate(image_row, axis=1))\n",
    "    vis = np.concatenate(visuals, axis=0)\n",
    "    cv2.imwrite(file_dir + '1out.png', vis)"
   ]
  },
  {
   "cell_type": "code",
   "execution_count": 3,
   "metadata": {
    "collapsed": true
   },
   "outputs": [],
   "source": [
    "from urllib.request import urlretrieve\n",
    "\n",
    "\n",
    "def get_image(x_pos, y_pos, file_name, zoom):\n",
    "    \"\"\"\n",
    "    Downloads a segment of the map image\n",
    "\n",
    "    @param {number} y_pos - The y position for the map segment\n",
    "    @param {number} x_pos - The x position for the map segment\n",
    "    @param {string} file_name - The name that the file will be saved under\n",
    "    \"\"\"\n",
    "\n",
    "    url = \"https://maps.googleapis.com/maps/api/staticmap?center=%s,%s&zoom=%s&size=1000x1000&maptype=satellite\" % (y_pos, x_pos, zoom)\n",
    "    print(url)\n",
    "    try:\n",
    "        urlretrieve(url, file_name)\n",
    "    except:\n",
    "        print('test')\n",
    "        shutil.copyfile('images/403.png', file_name)\n",
    "    "
   ]
  },
  {
   "cell_type": "code",
   "execution_count": 4,
   "metadata": {
    "collapsed": true
   },
   "outputs": [],
   "source": [
    "from PIL import Image\n",
    "\n",
    "def get_and_crop(x_pos, y_pos, file_name, zoom):\n",
    "    \"\"\"\n",
    "    Gets an image and crops out the google border thing\n",
    "\n",
    "    @param {number} y_pos - The y position to get the image from\n",
    "    @param {number} x_pos - The x positon to get the image from\n",
    "    @param {string} file_name - The file name for the image to be saved to\n",
    "    \"\"\"\n",
    "    get_image(x_pos, y_pos, file_name, zoom)\n",
    "    img = Image.open(file_name)\n",
    "    img = img.crop((0, 0, 640, 620))\n",
    "    img.save(file_name)"
   ]
  },
  {
   "cell_type": "code",
   "execution_count": null,
   "metadata": {
    "collapsed": true
   },
   "outputs": [],
   "source": [
    "get_image(-79.4062, 43.6515, 'images/test/test.png', 19)"
   ]
  },
  {
   "cell_type": "code",
   "execution_count": 5,
   "metadata": {
    "collapsed": true
   },
   "outputs": [],
   "source": [
    "def box_getter(box, file_dir, zoom, x_const, y_const):\n",
    "    \"\"\"\n",
    "    Gets all the images from a given box and downloads them\n",
    "\n",
    "    @param {dict} - The range to get for the image\n",
    "\n",
    "    @returns {void}\n",
    "    \"\"\"\n",
    "    zoom_x = {19 : 0.00172, 18 : 0.00086, 17 : 0.00086, 11 : 0.442, 13 : 0.11}\n",
    "    zoom_y = {19 : 0.0012, 18 : 0.0006, 17 : 0.0006, 11 : 0.310, 13 : 0.07695}\n",
    "#     x_const = zoom_x[zoom]\n",
    "#     y_const = zoom_y[zoom]\n",
    "    \n",
    "    x_pos = box['x1']\n",
    "    y_pos = box['y1']\n",
    "    total_x = 0\n",
    "    total_y = 0\n",
    "    while True:\n",
    "        if x_pos >= box['x1'] and x_pos <= box['x2']:\n",
    "            if y_pos <= box['y1'] and y_pos >= box['y2']:\n",
    "                get_and_crop(x_pos, y_pos, file_dir + str(total_x) + ' ' + str(total_y) + '.png', zoom)\n",
    "                x_pos += x_const\n",
    "                total_x += 1\n",
    "            else:\n",
    "                break\n",
    "        else:\n",
    "            # x+=0.00165\n",
    "            x_pos = box['x1']\n",
    "            y_pos -= y_const\n",
    "            total_y += 1\n",
    "            total_x = 0"
   ]
  },
  {
   "cell_type": "code",
   "execution_count": 100,
   "metadata": {
    "scrolled": true
   },
   "outputs": [
    {
     "name": "stdout",
     "output_type": "stream",
     "text": [
      "-79.3832 43.7515 4.616799999999998 -40.2485\n",
      "https://maps.googleapis.com/maps/api/staticmap?center=43.7515,-79.3832&zoom=5&size=1000x1000&maptype=satellite\n",
      "https://maps.googleapis.com/maps/api/staticmap?center=43.7515,-51.3832&zoom=5&size=1000x1000&maptype=satellite\n",
      "https://maps.googleapis.com/maps/api/staticmap?center=43.7515,-23.383200000000002&zoom=5&size=1000x1000&maptype=satellite\n",
      "https://maps.googleapis.com/maps/api/staticmap?center=43.7515,4.616799999999998&zoom=5&size=1000x1000&maptype=satellite\n",
      "https://maps.googleapis.com/maps/api/staticmap?center=21.2515,-79.3832&zoom=5&size=1000x1000&maptype=satellite\n",
      "https://maps.googleapis.com/maps/api/staticmap?center=21.2515,-51.3832&zoom=5&size=1000x1000&maptype=satellite\n",
      "https://maps.googleapis.com/maps/api/staticmap?center=21.2515,-23.383200000000002&zoom=5&size=1000x1000&maptype=satellite\n",
      "https://maps.googleapis.com/maps/api/staticmap?center=21.2515,4.616799999999998&zoom=5&size=1000x1000&maptype=satellite\n",
      "https://maps.googleapis.com/maps/api/staticmap?center=-1.2485,-79.3832&zoom=5&size=1000x1000&maptype=satellite\n",
      "https://maps.googleapis.com/maps/api/staticmap?center=-1.2485,-51.3832&zoom=5&size=1000x1000&maptype=satellite\n",
      "https://maps.googleapis.com/maps/api/staticmap?center=-1.2485,-23.383200000000002&zoom=5&size=1000x1000&maptype=satellite\n",
      "https://maps.googleapis.com/maps/api/staticmap?center=-1.2485,4.616799999999998&zoom=5&size=1000x1000&maptype=satellite\n",
      "https://maps.googleapis.com/maps/api/staticmap?center=-23.7485,-79.3832&zoom=5&size=1000x1000&maptype=satellite\n",
      "https://maps.googleapis.com/maps/api/staticmap?center=-23.7485,-51.3832&zoom=5&size=1000x1000&maptype=satellite\n",
      "https://maps.googleapis.com/maps/api/staticmap?center=-23.7485,-23.383200000000002&zoom=5&size=1000x1000&maptype=satellite\n",
      "https://maps.googleapis.com/maps/api/staticmap?center=-23.7485,4.616799999999998&zoom=5&size=1000x1000&maptype=satellite\n",
      "Done\n"
     ]
    }
   ],
   "source": [
    "folder = 'images/test/'\n",
    "for the_file in os.listdir(folder):\n",
    "    file_path = os.path.join(folder, the_file)\n",
    "    try:\n",
    "        if os.path.isfile(file_path):\n",
    "            os.unlink(file_path)\n",
    "        #elif os.path.isdir(file_path): shutil.rmtree(file_path)\n",
    "    except Exception as e:\n",
    "        print(e)\n",
    "    \n",
    "x_const = 28\n",
    "y_const = 22.5\n",
    "x_cord = -79.3832\n",
    "y_cord = 43.7515\n",
    "x2 = x_cord+(x_const*3)\n",
    "y2 = y_cord-(x_const*3)\n",
    "print(x_cord, y_cord, x2, y2)\n",
    "box_getter({'x1': x_cord, 'x2': x2, 'y1': y_cord, 'y2': y2}, 'images/test/', 5, x_const, y_const)\n",
    "print('Done')"
   ]
  },
  {
   "cell_type": "code",
   "execution_count": 101,
   "metadata": {},
   "outputs": [
    {
     "name": "stderr",
     "output_type": "stream",
     "text": [
      "IOPub data rate exceeded.\n",
      "The notebook server will temporarily stop sending output\n",
      "to the client in order to avoid crashing it.\n",
      "To change this limit, set the config variable\n",
      "`--NotebookApp.iopub_data_rate_limit`.\n"
     ]
    }
   ],
   "source": [
    "combine_images('images/test/')\n",
    "IPYimg('images/test/1out.png')"
   ]
  },
  {
   "cell_type": "code",
   "execution_count": null,
   "metadata": {
    "collapsed": true
   },
   "outputs": [],
   "source": []
  }
 ],
 "metadata": {
  "kernelspec": {
   "display_name": "Python 3",
   "language": "python",
   "name": "python3"
  },
  "language_info": {
   "codemirror_mode": {
    "name": "ipython",
    "version": 3
   },
   "file_extension": ".py",
   "mimetype": "text/x-python",
   "name": "python",
   "nbconvert_exporter": "python",
   "pygments_lexer": "ipython3",
   "version": "3.5.2"
  }
 },
 "nbformat": 4,
 "nbformat_minor": 2
}
